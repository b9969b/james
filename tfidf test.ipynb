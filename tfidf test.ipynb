{
 "cells": [
  {
   "cell_type": "code",
   "execution_count": 1,
   "metadata": {
    "collapsed": false
   },
   "outputs": [
    {
     "name": "stderr",
     "output_type": "stream",
     "text": [
      "Building prefix dict from the default dictionary ...\n",
      "Loading model from cache c:\\users\\bigdat~1\\appdata\\local\\temp\\jieba.cache\n",
      "Loading model cost 0.365 seconds.\n",
      "Prefix dict has been built succesfully.\n"
     ]
    },
    {
     "name": "stdout",
     "output_type": "stream",
     "text": [
      "[(0, 3), (14, 1), (15, 1), (16, 1), (17, 1), (18, 1), (19, 1), (20, 1), (21, 1), (22, 1)]\n"
     ]
    }
   ],
   "source": [
    "import pymongo\n",
    "from pymongo import MongoClient\n",
    "import json\n",
    "import jieba\n",
    "from gensim import corpora, models, similarities\n",
    "from collections import defaultdict\n",
    "import jieba\n",
    "import io\n",
    "stoplist = []\n",
    "documents =[]\n",
    "words=[]\n",
    "client = MongoClient() #預設連接自己主機上的mongodb\n",
    "database = client[\"test\"] # SQL: Database Name\n",
    "collection = database[\"test\"]\n",
    "jieba.load_userdict(\"dict.txt\")\n",
    "with io.open('C:/Users/BIG DATA/Desktop/stoplist.txt','r',encoding = 'utf-8') as f:\n",
    "    for line in f.readlines():\n",
    "        stoplist.append(line.strip('\\n'))\n",
    "for post in collection.find():\n",
    "    documents.append(post['title'])\n",
    "\n",
    "for doc in range(0,len(documents)):\n",
    "    word=[]\n",
    "    z=unicode(documents[doc])\n",
    "    for a in jieba.cut(z):\n",
    "        if not a in stoplist:\n",
    "            ab=[a]\n",
    "            word+=ab\n",
    "    #print word\n",
    "    words+=[word]\n",
    "\n",
    "\n",
    "    \n",
    "frequency = defaultdict(int)\n",
    "for text in words:\n",
    "    for token in text:\n",
    "         frequency[token] += 1\n",
    "texts = [[token for token in text if frequency[token] > 1]\n",
    "          for text in words]\n",
    "dic = corpora.Dictionary(texts)\n",
    "\n",
    "corpus = [dic.doc2bow(text) for text in texts] \n",
    "print corpus[2]\n",
    "tfidf = models.TfidfModel(corpus)\n",
    "corpus_tfidf = tfidf[corpus] \n",
    "index = similarities.SparseMatrixSimilarity(tfidf[corpus], num_features=84624) #-1\n",
    "lsi = models.LsiModel(corpus_tfidf, id2word=dic, num_topics=15)  #分幾群\n",
    "lsiout=lsi.print_topics(15)                                 #分幾群\n",
    "corpus_lsi = lsi[corpus_tfidf]"
   ]
  },
  {
   "cell_type": "code",
   "execution_count": 2,
   "metadata": {
    "collapsed": false
   },
   "outputs": [
    {
     "name": "stdout",
     "output_type": "stream",
     "text": [
      "0.468*\"月\" + 0.267*\"3\" + 0.239*\"2\" + 0.222*\"1\" + 0.220*\"年\" + 0.168*\"4\" + 0.157*\"5\" + 0.146*\"營收\" + 0.134*\"人\" + 0.130*\"日\" \n",
      "\n",
      "-0.514*\"月\" + 0.338*\"立委\" + 0.207*\"台灣\" + -0.201*\"營收\" + 0.199*\"不\" + 0.196*\"蔡英文\" + 0.183*\"人\" + 0.162*\"台\" + 0.156*\"總統\" + 0.135*\"中\" \n",
      "\n",
      "0.611*\"元\" + -0.362*\"月\" + -0.305*\"立委\" + 0.267*\"去年\" + 0.250*\"EPS\" + 0.168*\"每股\" + 0.133*\"賺\" + 0.097*\"台股\" + -0.093*\"營收\" + 0.092*\"新高\" \n",
      "\n",
      "-0.652*\"立委\" + -0.306*\"元\" + 0.179*\"台灣\" + -0.147*\"去年\" + -0.143*\"台\" + -0.129*\"EPS\" + -0.121*\"中\" + 0.121*\"3\" + 0.120*\"大\" + 0.112*\"年\" \n",
      "\n",
      "-0.353*\"日盤勢\" + -0.350*\"賽事\" + -0.340*\"表\" + -0.339*\"分析\" + -0.240*\"立委\" + -0.193*\"MLB\" + 0.189*\"月\" + -0.174*\"3\" + -0.173*\"2\" + 0.168*\"蔡英文\" \n",
      "\n",
      "0.299*\"日盤勢\" + 0.296*\"賽事\" + 0.294*\"表\" + 0.285*\"分析\" + -0.260*\"2\" + -0.253*\"年\" + 0.243*\"月\" + -0.241*\"3\" + 0.202*\"蔡英文\" + -0.198*\"1\" \n",
      "\n",
      "0.694*\"大\" + 0.291*\"台灣\" + -0.223*\"總統\" + -0.211*\"蔡英文\" + -0.186*\"不\" + -0.180*\"朱立倫\" + -0.158*\"馬\" + 0.147*\"立委\" + -0.121*\"台股\" + -0.117*\"2\" \n",
      "\n",
      "-0.670*\"3\" + 0.349*\"2\" + 0.311*\"台灣\" + -0.281*\"大\" + 0.268*\"人\" + 0.127*\"1\" + -0.112*\"朱立倫\" + -0.109*\"不\" + -0.099*\"台股\" + 0.084*\"台\" \n",
      "\n",
      "0.633*\"不\" + -0.360*\"年\" + -0.251*\"總統\" + 0.245*\"人\" + -0.230*\"馬\" + -0.199*\"經濟\" + -0.127*\"蔡英文\" + -0.115*\"美\" + 0.107*\"分區\" + -0.096*\"億\" \n",
      "\n",
      "0.609*\"潛力\" + 0.605*\"黑馬\" + 0.220*\"股\" + -0.137*\"經濟\" + -0.130*\"台\" + -0.124*\"美\" + 0.115*\"2\" + 0.109*\"總統\" + -0.103*\"中\" + 0.089*\"法人\" \n",
      "\n",
      "-0.391*\"大\" + 0.367*\"3\" + 0.305*\"經濟\" + 0.243*\"台灣\" + -0.225*\"總統\" + 0.220*\"明年\" + 0.209*\"潛力\" + 0.207*\"黑馬\" + -0.175*\"馬\" + -0.172*\"台股\" \n",
      "\n",
      "0.303*\"當選\" + -0.274*\"搶\" + 0.268*\"明年\" + 0.267*\"宣布\" + 0.224*\"自行\" + -0.221*\"馬習會\" + -0.219*\"權民\" + -0.218*\"人\" + -0.198*\"百萬\" + -0.188*\"3\" \n",
      "\n",
      "-0.483*\"當選\" + -0.430*\"宣布\" + -0.372*\"自行\" + -0.265*\"選區\" + -0.188*\"馬習會\" + 0.163*\"年\" + -0.153*\"台灣\" + -0.140*\"台股\" + 0.137*\"明年\" + -0.129*\"搶\" \n",
      "\n",
      "-0.424*\"馬習會\" + 0.303*\"搶\" + -0.289*\"MERS\" + 0.237*\"權民\" + 0.221*\"百萬\" + -0.208*\"2\" + 0.199*\"年\" + -0.177*\"朱立倫\" + -0.174*\"明年\" + 0.154*\"不\" \n",
      "\n",
      "Dictionary(84625 unique tokens: [u'\\u85dd\\u5c55', u'\\u4e0d\\u6309\\u724c\\u7406', u'\\u4e0a\\u58eb', u'\\u9019\\u590f', u'\\u6d89']...)\n"
     ]
    }
   ],
   "source": [
    "print lsiout[0][1],\"\\n\"   #第1-15群關鍵詞\n",
    "print lsiout[1][1],\"\\n\"\n",
    "print lsiout[2][1],\"\\n\"\n",
    "print lsiout[3][1],\"\\n\"\n",
    "print lsiout[4][1],\"\\n\"\n",
    "print lsiout[5][1],\"\\n\"\n",
    "print lsiout[7][1],\"\\n\"\n",
    "print lsiout[8][1],\"\\n\"\n",
    "print lsiout[9][1],\"\\n\"\n",
    "print lsiout[10][1],\"\\n\"\n",
    "print lsiout[11][1],\"\\n\"\n",
    "print lsiout[12][1],\"\\n\"\n",
    "print lsiout[13][1],\"\\n\"\n",
    "print lsiout[14][1],\"\\n\"\n",
    "\n",
    "\n",
    "print dic  #num_features-1"
   ]
  },
  {
   "cell_type": "code",
   "execution_count": 3,
   "metadata": {
    "collapsed": false
   },
   "outputs": [
    {
     "name": "stdout",
     "output_type": "stream",
     "text": [
      "[(1036, 1)]\n",
      "[(0, 0.034599282742428149), (1, 0.02035126054093956), (2, 0.019844472082962829), (3, 0.058722093072198119), (4, -0.10908450879672653), (5, 0.026611164291909409), (6, -0.0033685360741610823), (7, -0.010040871703680312), (8, -0.031000979978043443), (9, 0.0035525560071409177), (10, 0.0061946777784927581), (11, -0.016882448030013833), (12, 0.010083943737846511), (13, 0.0035229980302851692), (14, 0.0060029301801615212)]\n"
     ]
    }
   ],
   "source": [
    "index = similarities.MatrixSimilarity(lsi[corpus]) #關鍵字收尋 看是分到第幾群\n",
    "query = \"NBA\"\n",
    "query_bow = dic.doc2bow(list(jieba.cut(query)))\n",
    "#印出這文章出現哪些訓練好的id\n",
    "print query_bow\n",
    "#[(10, 1), (14, 1)]\n",
    "query_lsi = lsi[query_bow]\n",
    "#印出和哪個主題類似\n",
    "print query_lsi"
   ]
  },
  {
   "cell_type": "code",
   "execution_count": 4,
   "metadata": {
    "collapsed": false
   },
   "outputs": [
    {
     "name": "stdout",
     "output_type": "stream",
     "text": [
      "[(36, 1)]\n",
      "[(0, 0.019738513434540937), (1, 0.010711210945355662), (2, 0.011906105741372668), (3, 0.067586349773543192), (4, -0.19254688732251232), (5, 0.15559639073917214), (6, 0.027944584906192546), (7, 0.022558971462485974), (8, 0.0092894394650263334), (9, -0.0060192970330498344), (10, 0.0016239497890374224), (11, -0.015110584076753763), (12, 0.0023620916577036274), (13, 0.00079596019002836237), (14, -0.0073962441459338706)]\n"
     ]
    }
   ],
   "source": [
    "index = similarities.MatrixSimilarity(lsi[corpus])  #關鍵字收尋 看是分到第幾群\n",
    "query = \"MLB\"\n",
    "query_bow = dic.doc2bow(list(jieba.cut(query)))\n",
    "#印出這文章出現哪些訓練好的id\n",
    "print query_bow\n",
    "#[(10, 1), (14, 1)]\n",
    "query_lsi = lsi[query_bow]\n",
    "#印出和哪個主題類似\n",
    "print query_lsi"
   ]
  },
  {
   "cell_type": "code",
   "execution_count": null,
   "metadata": {
    "collapsed": true
   },
   "outputs": [],
   "source": []
  }
 ],
 "metadata": {
  "kernelspec": {
   "display_name": "Python 2",
   "language": "python",
   "name": "python2"
  },
  "language_info": {
   "codemirror_mode": {
    "name": "ipython",
    "version": 2
   },
   "file_extension": ".py",
   "mimetype": "text/x-python",
   "name": "python",
   "nbconvert_exporter": "python",
   "pygments_lexer": "ipython2",
   "version": "2.7.11"
  }
 },
 "nbformat": 4,
 "nbformat_minor": 0
}
